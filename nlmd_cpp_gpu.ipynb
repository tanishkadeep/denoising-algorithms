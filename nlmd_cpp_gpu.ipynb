{
  "nbformat": 4,
  "nbformat_minor": 0,
  "metadata": {
    "colab": {
      "provenance": [],
      "gpuType": "T4"
    },
    "kernelspec": {
      "name": "python3",
      "display_name": "Python 3"
    },
    "language_info": {
      "name": "python"
    },
    "accelerator": "GPU"
  },
  "cells": [
    {
      "cell_type": "code",
      "source": [
        "# Install OpenCV with CUDA support\n",
        "!apt-get update\n",
        "!apt-get install -y libopencv-dev libopencv-core-dev libopencv-imgproc-dev\n",
        "!pip install opencv-python-headless\n"
      ],
      "metadata": {
        "colab": {
          "base_uri": "https://localhost:8080/"
        },
        "id": "ZmP-VCG8npm-",
        "outputId": "3fd1380b-42ce-447f-c7df-8068f0734347"
      },
      "execution_count": null,
      "outputs": [
        {
          "output_type": "stream",
          "name": "stdout",
          "text": [
            "Get:1 https://cloud.r-project.org/bin/linux/ubuntu jammy-cran40/ InRelease [3,626 B]\n",
            "Hit:2 http://archive.ubuntu.com/ubuntu jammy InRelease\n",
            "Get:3 https://developer.download.nvidia.com/compute/cuda/repos/ubuntu2204/x86_64  InRelease [1,581 B]\n",
            "Get:4 http://archive.ubuntu.com/ubuntu jammy-updates InRelease [128 kB]\n",
            "Get:5 http://security.ubuntu.com/ubuntu jammy-security InRelease [129 kB]\n",
            "Ign:6 https://r2u.stat.illinois.edu/ubuntu jammy InRelease\n",
            "Get:7 https://r2u.stat.illinois.edu/ubuntu jammy Release [5,713 B]\n",
            "Get:8 https://r2u.stat.illinois.edu/ubuntu jammy Release.gpg [793 B]\n",
            "Get:9 http://archive.ubuntu.com/ubuntu jammy-backports InRelease [127 kB]\n",
            "Get:10 https://developer.download.nvidia.com/compute/cuda/repos/ubuntu2204/x86_64  Packages [945 kB]\n",
            "Get:11 https://r2u.stat.illinois.edu/ubuntu jammy/main amd64 Packages [2,559 kB]\n",
            "Get:12 http://archive.ubuntu.com/ubuntu jammy-updates/restricted amd64 Packages [3,041 kB]\n",
            "Get:13 https://ppa.launchpadcontent.net/deadsnakes/ppa/ubuntu jammy InRelease [18.1 kB]\n",
            "Get:14 https://r2u.stat.illinois.edu/ubuntu jammy/main all Packages [8,240 kB]\n",
            "Get:15 http://archive.ubuntu.com/ubuntu jammy-updates/multiverse amd64 Packages [51.8 kB]\n",
            "Get:16 http://archive.ubuntu.com/ubuntu jammy-updates/universe amd64 Packages [1,425 kB]\n",
            "Get:17 http://archive.ubuntu.com/ubuntu jammy-updates/main amd64 Packages [2,498 kB]\n",
            "Get:18 http://security.ubuntu.com/ubuntu jammy-security/main amd64 Packages [2,221 kB]\n",
            "Get:19 http://archive.ubuntu.com/ubuntu jammy-backports/main amd64 Packages [81.4 kB]\n",
            "Get:20 http://archive.ubuntu.com/ubuntu jammy-backports/universe amd64 Packages [33.7 kB]\n",
            "Get:21 https://ppa.launchpadcontent.net/graphics-drivers/ppa/ubuntu jammy InRelease [24.3 kB]\n",
            "Hit:22 https://ppa.launchpadcontent.net/ubuntugis/ppa/ubuntu jammy InRelease\n",
            "Get:23 https://ppa.launchpadcontent.net/deadsnakes/ppa/ubuntu jammy/main amd64 Packages [27.8 kB]\n",
            "Get:24 http://security.ubuntu.com/ubuntu jammy-security/universe amd64 Packages [1,135 kB]\n",
            "Get:25 https://ppa.launchpadcontent.net/graphics-drivers/ppa/ubuntu jammy/main amd64 Packages [53.3 kB]\n",
            "Get:26 http://security.ubuntu.com/ubuntu jammy-security/restricted amd64 Packages [2,944 kB]\n",
            "Fetched 25.7 MB in 3s (7,452 kB/s)\n",
            "Reading package lists... Done\n",
            "W: Skipping acquire of configured file 'main/source/Sources' as repository 'https://r2u.stat.illinois.edu/ubuntu jammy InRelease' does not seem to provide it (sources.list entry misspelt?)\n",
            "Reading package lists... Done\n",
            "Building dependency tree... Done\n",
            "Reading state information... Done\n",
            "libopencv-core-dev is already the newest version (4.5.4+dfsg-9ubuntu4+jammy0).\n",
            "libopencv-core-dev set to manually installed.\n",
            "libopencv-dev is already the newest version (4.5.4+dfsg-9ubuntu4+jammy0).\n",
            "libopencv-imgproc-dev is already the newest version (4.5.4+dfsg-9ubuntu4+jammy0).\n",
            "libopencv-imgproc-dev set to manually installed.\n",
            "0 upgraded, 0 newly installed, 0 to remove and 106 not upgraded.\n",
            "Requirement already satisfied: opencv-python-headless in /usr/local/lib/python3.10/dist-packages (4.10.0.84)\n",
            "Requirement already satisfied: numpy>=1.21.2 in /usr/local/lib/python3.10/dist-packages (from opencv-python-headless) (1.25.2)\n"
          ]
        }
      ]
    },
    {
      "cell_type": "code",
      "source": [
        "!nvcc --version\n"
      ],
      "metadata": {
        "colab": {
          "base_uri": "https://localhost:8080/"
        },
        "id": "-xtvDIu_nvas",
        "outputId": "22dc4b9e-f737-40f8-cb07-919d0e1b39ee"
      },
      "execution_count": null,
      "outputs": [
        {
          "output_type": "stream",
          "name": "stdout",
          "text": [
            "nvcc: NVIDIA (R) Cuda compiler driver\n",
            "Copyright (c) 2005-2023 NVIDIA Corporation\n",
            "Built on Tue_Aug_15_22:02:13_PDT_2023\n",
            "Cuda compilation tools, release 12.2, V12.2.140\n",
            "Build cuda_12.2.r12.2/compiler.33191640_0\n"
          ]
        }
      ]
    },
    {
      "cell_type": "code",
      "source": [],
      "metadata": {
        "id": "e0TxJKT2nw0t"
      },
      "execution_count": null,
      "outputs": []
    },
    {
      "cell_type": "code",
      "execution_count": null,
      "metadata": {
        "colab": {
          "base_uri": "https://localhost:8080/"
        },
        "id": "qkW_KFtHnI4W",
        "outputId": "ac792d53-478f-44a0-9828-08ddd1ea41c1"
      },
      "outputs": [
        {
          "output_type": "stream",
          "name": "stdout",
          "text": [
            "Writing non_local_means_denoising.cu\n"
          ]
        }
      ],
      "source": [
        "%%writefile non_local_means_denoising.cu\n",
        "#include <opencv2/opencv.hpp>\n",
        "#include <opencv2/core/cuda.hpp>\n",
        "#include <iostream>\n",
        "#include <vector>\n",
        "#include <filesystem>\n",
        "#include <chrono>\n",
        "#include <string>\n",
        "#include <cuda_runtime.h>\n",
        "#include <device_launch_parameters.h>\n",
        "#include <cmath>\n",
        "\n",
        "namespace fs = std::filesystem;\n",
        "using namespace cv;\n",
        "using namespace std;\n",
        "\n",
        "#define CUDA_CHECK(ans) { gpuAssert((ans), __FILE__, __LINE__); }\n",
        "inline void gpuAssert(cudaError_t code, const char *file, int line, bool abort=true) {\n",
        "    if (code != cudaSuccess) {\n",
        "        fprintf(stderr, \"GPUassert: %s %s %d\\n\", cudaGetErrorString(code), file, line);\n",
        "        if (abort) exit(code);\n",
        "    }\n",
        "}\n",
        "\n",
        "void nonLocalMeansDenoisingGPU(const Mat& inputImage, Mat& outputImage, double h, double hForColorComponents, int templateWindowSize, int searchWindowSize) {\n",
        "    fastNlMeansDenoisingColored(inputImage, outputImage, h, hForColorComponents, templateWindowSize, searchWindowSize);\n",
        "}\n",
        "\n",
        "double psnr(const Mat& I1, const Mat& I2) {\n",
        "    CV_Assert(I1.size() == I2.size() && I1.type() == I2.type());\n",
        "\n",
        "    Mat s1;\n",
        "    absdiff(I1, I2, s1);\n",
        "    s1.convertTo(s1, CV_32F);\n",
        "\n",
        "    s1 = s1.mul(s1);\n",
        "    Scalar s = sum(s1);\n",
        "    double sse = s.val[0] + s.val[1] + s.val[2];\n",
        "\n",
        "    if (sse <= 1e-10) return 0;\n",
        "\n",
        "    double mse = sse / (I1.channels() * I1.total());\n",
        "    double psnr = 10.0 * log10((255 * 255) / mse);\n",
        "    return psnr;\n",
        "}\n",
        "\n",
        "bool endsWith(const string& str, const string& suffix) {\n",
        "    return str.size() >= suffix.size() && str.compare(str.size() - suffix.size(), suffix.size(), suffix) == 0;\n",
        "}\n",
        "\n",
        "void processImage(const string& imagePath, const string& outputPath, double h, double hForColorComponents, int templateWindowSize, int searchWindowSize, double& totalInferenceTime, double& totalPSNR, int& imageCount) {\n",
        "    Mat image = imread(imagePath, IMREAD_COLOR);\n",
        "    if (image.empty()) {\n",
        "        cerr << \"Error loading image: \" << imagePath << endl;\n",
        "        return;\n",
        "    }\n",
        "\n",
        "    if (image.rows > 720 || image.cols > 1280) {\n",
        "        cerr << \"Image size exceeds the allowed dimensions of 1280x720p\" << endl;\n",
        "        return;\n",
        "    }\n",
        "\n",
        "    auto start = chrono::high_resolution_clock::now();\n",
        "    Mat result;\n",
        "    nonLocalMeansDenoisingGPU(image, result, h, hForColorComponents, templateWindowSize, searchWindowSize);\n",
        "    auto end = chrono::high_resolution_clock::now();\n",
        "    double inference_time = chrono::duration<double, milli>(end - start).count();\n",
        "\n",
        "    imwrite(outputPath, result);\n",
        "\n",
        "    double psnrValue = psnr(image, result);\n",
        "\n",
        "    totalInferenceTime += inference_time;\n",
        "    totalPSNR += psnrValue;\n",
        "    ++imageCount;\n",
        "}\n",
        "\n",
        "void printGPUInfo() {\n",
        "    cout << \"GPU Metrics:\" << endl;\n",
        "    system(\"nvidia-smi --query-gpu=memory.used,utilization.gpu --format=csv,nounits,noheader | awk -F', ' '{print \\\"GPU Memory Usage (MB): \\\" $1 \\\" MB\\\"; print \\\"GPU Load (%): \\\" $2}'\");\n",
        "}\n",
        "\n",
        "void processDataset(const string& rootFolder, double h, double hForColorComponents, int templateWindowSize, int searchWindowSize) {\n",
        "    vector<string> noisyFolders = {\"noisy5\", \"noisy15\", \"noisy35\"};\n",
        "    vector<string> denoisedFolders = {\"denoised5\", \"denoised15\", \"denoised35\"};\n",
        "\n",
        "    double totalInferenceTime = 0;\n",
        "    double totalPSNR = 0;\n",
        "    int imageCount = 0;\n",
        "\n",
        "    auto startTotalTime = chrono::high_resolution_clock::now();\n",
        "\n",
        "    for (size_t i = 0; i < noisyFolders.size(); ++i) {\n",
        "        string inputFolder = rootFolder + \"/\" + noisyFolders[i];\n",
        "        string outputFolder = rootFolder + \"/\" + denoisedFolders[i];\n",
        "\n",
        "        if (!fs::exists(outputFolder)) {\n",
        "            fs::create_directory(outputFolder);\n",
        "        }\n",
        "\n",
        "        for (const auto& entry : fs::directory_iterator(inputFolder)) {\n",
        "            string imagePath = entry.path().string();\n",
        "            if (endsWith(imagePath, \".png\") || endsWith(imagePath, \".jpg\") || endsWith(imagePath, \".jpeg\")) {\n",
        "                string outputPath = outputFolder + \"/\" + entry.path().filename().string();\n",
        "                processImage(imagePath, outputPath, h, hForColorComponents, templateWindowSize, searchWindowSize, totalInferenceTime, totalPSNR, imageCount);\n",
        "            }\n",
        "        }\n",
        "    }\n",
        "\n",
        "    auto endTotalTime = chrono::high_resolution_clock::now();\n",
        "    double totalTimeTaken = chrono::duration<double, milli>(endTotalTime - startTotalTime).count();\n",
        "\n",
        "    if (imageCount > 0) {\n",
        "        double avgInferenceTime = totalInferenceTime / imageCount;\n",
        "        double avgPSNR = totalPSNR / imageCount;\n",
        "\n",
        "        cout << \"Average Inference Time (ms): \" << avgInferenceTime << endl;\n",
        "        cout << \"Average PSNR (dB): \" << avgPSNR << endl;\n",
        "\n",
        "        printGPUInfo();\n",
        "    } else {\n",
        "        cout << \"No images processed.\" << endl;\n",
        "    }\n",
        "}\n",
        "\n",
        "int main() {\n",
        "    string rootFolder = \"/content/drive/MyDrive/dataset\";\n",
        "    double h = 10.0;\n",
        "    double hForColorComponents = 10.0;\n",
        "    int templateWindowSize = 7;\n",
        "    int searchWindowSize = 21;\n",
        "\n",
        "    processDataset(rootFolder, h, hForColorComponents, templateWindowSize, searchWindowSize);\n",
        "\n",
        "    return 0;\n",
        "}\n"
      ]
    },
    {
      "cell_type": "code",
      "source": [
        "!nvcc -diag-suppress=611 -o non_local_means_denoising non_local_means_denoising.cu `pkg-config --cflags --libs opencv4`\n",
        "!./non_local_means_denoising\n"
      ],
      "metadata": {
        "colab": {
          "base_uri": "https://localhost:8080/"
        },
        "id": "kXcKiftYnoCo",
        "outputId": "32a1afe2-c593-4de0-950e-f083fe88ea0d"
      },
      "execution_count": null,
      "outputs": [
        {
          "output_type": "stream",
          "name": "stdout",
          "text": [
            "\u001b[01m\u001b[0m\u001b[01m/usr/include/opencv4/opencv2/stitching/detail/warpers.hpp(235)\u001b[0m: \u001b[01;35mwarning\u001b[0m #611-D: overloaded virtual function \u001b[01m\"cv::detail::PlaneWarper::buildMaps\"\u001b[0m is only partially overridden in class \u001b[01m\"cv::detail::AffineWarper\"\u001b[0m\n",
            "  class AffineWarper : public PlaneWarper\n",
            "        ^\n",
            "\n",
            "\u001b[01;36m\u001b[0m\u001b[01;36mRemark\u001b[0m: The warnings can be suppressed with \"-diag-suppress <warning-number>\"\n",
            "\n",
            "\u001b[01m\u001b[0m\u001b[01m/usr/include/opencv4/opencv2/stitching/detail/warpers.hpp(235)\u001b[0m: \u001b[01;35mwarning\u001b[0m #611-D: overloaded virtual function \u001b[01m\"cv::detail::PlaneWarper::warp\"\u001b[0m is only partially overridden in class \u001b[01m\"cv::detail::AffineWarper\"\u001b[0m\n",
            "  class AffineWarper : public PlaneWarper\n",
            "        ^\n",
            "\n",
            "\u001b[01m\u001b[0m\u001b[01m/usr/include/opencv4/opencv2/stitching/detail/blenders.hpp(100)\u001b[0m: \u001b[01;35mwarning\u001b[0m #611-D: overloaded virtual function \u001b[01m\"cv::detail::Blender::prepare\"\u001b[0m is only partially overridden in class \u001b[01m\"cv::detail::FeatherBlender\"\u001b[0m\n",
            "  class FeatherBlender : public Blender\n",
            "        ^\n",
            "\n",
            "\u001b[01m\u001b[0m\u001b[01m/usr/include/opencv4/opencv2/stitching/detail/blenders.hpp(127)\u001b[0m: \u001b[01;35mwarning\u001b[0m #611-D: overloaded virtual function \u001b[01m\"cv::detail::Blender::prepare\"\u001b[0m is only partially overridden in class \u001b[01m\"cv::detail::MultiBandBlender\"\u001b[0m\n",
            "  class MultiBandBlender : public Blender\n",
            "        ^\n",
            "\n",
            "\u001b[01m\u001b[0m\u001b[01m/usr/include/opencv4/opencv2/stitching/detail/warpers.hpp(235)\u001b[0m: \u001b[01;35mwarning\u001b[0m #611-D: overloaded virtual function \u001b[01m\"cv::detail::PlaneWarper::buildMaps\"\u001b[0m is only partially overridden in class \u001b[01m\"cv::detail::AffineWarper\"\u001b[0m\n",
            "  class AffineWarper : public PlaneWarper\n",
            "        ^\n",
            "\n",
            "\u001b[01;36m\u001b[0m\u001b[01;36mRemark\u001b[0m: The warnings can be suppressed with \"-diag-suppress <warning-number>\"\n",
            "\n",
            "\u001b[01m\u001b[0m\u001b[01m/usr/include/opencv4/opencv2/stitching/detail/warpers.hpp(235)\u001b[0m: \u001b[01;35mwarning\u001b[0m #611-D: overloaded virtual function \u001b[01m\"cv::detail::PlaneWarper::warp\"\u001b[0m is only partially overridden in class \u001b[01m\"cv::detail::AffineWarper\"\u001b[0m\n",
            "  class AffineWarper : public PlaneWarper\n",
            "        ^\n",
            "\n",
            "\u001b[01m\u001b[0m\u001b[01m/usr/include/opencv4/opencv2/stitching/detail/blenders.hpp(100)\u001b[0m: \u001b[01;35mwarning\u001b[0m #611-D: overloaded virtual function \u001b[01m\"cv::detail::Blender::prepare\"\u001b[0m is only partially overridden in class \u001b[01m\"cv::detail::FeatherBlender\"\u001b[0m\n",
            "  class FeatherBlender : public Blender\n",
            "        ^\n",
            "\n",
            "\u001b[01m\u001b[0m\u001b[01m/usr/include/opencv4/opencv2/stitching/detail/blenders.hpp(127)\u001b[0m: \u001b[01;35mwarning\u001b[0m #611-D: overloaded virtual function \u001b[01m\"cv::detail::Blender::prepare\"\u001b[0m is only partially overridden in class \u001b[01m\"cv::detail::MultiBandBlender\"\u001b[0m\n",
            "  class MultiBandBlender : public Blender\n",
            "        ^\n",
            "\n",
            "Average Inference Time (ms): 607.063\n",
            "Average PSNR (dB): 26.0145\n",
            "GPU Metrics:\n",
            "GPU Memory Usage (MB): 0 MB\n",
            "GPU Load (%): 0\n"
          ]
        }
      ]
    },
    {
      "cell_type": "code",
      "source": [],
      "metadata": {
        "id": "KHUJ1a3htqo6"
      },
      "execution_count": null,
      "outputs": []
    }
  ]
}