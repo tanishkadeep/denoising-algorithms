{
  "nbformat": 4,
  "nbformat_minor": 0,
  "metadata": {
    "colab": {
      "provenance": []
    },
    "kernelspec": {
      "name": "python3",
      "display_name": "Python 3"
    },
    "language_info": {
      "name": "python"
    }
  },
  "cells": [
    {
      "cell_type": "code",
      "execution_count": null,
      "metadata": {
        "id": "gZkJvrgjx5VX"
      },
      "outputs": [],
      "source": [
        "!pip install memory-profiler"
      ]
    },
    {
      "cell_type": "code",
      "source": [
        "import cv2\n",
        "import numpy as np\n",
        "import psutil\n",
        "import time\n",
        "from skimage.metrics import peak_signal_noise_ratio as psnr\n",
        "import os\n",
        "\n",
        "base_path = \"/content/drive/My Drive/dataset\"\n",
        "\n",
        "def print_cpu_metrics(total_inference_time, num_images):\n",
        "    cpu_percent = psutil.cpu_percent()\n",
        "    memory_info = psutil.virtual_memory()\n",
        "    avg_psnr = total_psnr / num_images if num_images > 0 else 0\n",
        "    avg_inference_time = total_inference_time / num_images if num_images > 0 else 0\n",
        "    print(f\"Total CPU Usage: {cpu_percent}%\")\n",
        "    print(f\"Total RAM Usage: {memory_info.used / (1024 ** 2):.2f} MB\")\n",
        "    print(f\"Total Inference Time: {total_inference_time:.2f} ms\")\n",
        "    print(f\"Average Inference Time per Image: {avg_inference_time:.2f} ms\")\n",
        "    print(f\"Average PSNR: {avg_psnr:.2f} dB\")\n",
        "\n",
        "def non_local_means_denoising(image, h=10, hForColorComponents=10, templateWindowSize=7, searchWindowSize=21):\n",
        "\n",
        "    start_time = time.time()\n",
        "    if len(image.shape) == 2:\n",
        "        denoised_image = cv2.fastNlMeansDenoising(image, None, h, templateWindowSize, searchWindowSize)\n",
        "    else:\n",
        "        denoised_image = cv2.fastNlMeansDenoisingColored(image, None, h, hForColorComponents, templateWindowSize, searchWindowSize)\n",
        "    end_time = time.time()\n",
        "    inference_time = (end_time - start_time) * 1000\n",
        "    return denoised_image, inference_time\n",
        "\n",
        "def calculate_psnr(original_image, denoised_image):\n",
        "    return psnr(original_image, denoised_image)\n",
        "\n",
        "def process_folder(input_folder, output_folder):\n",
        "    input_path = os.path.join(base_path, input_folder)\n",
        "    output_path = os.path.join(base_path, output_folder)\n",
        "\n",
        "    if not os.path.exists(output_path):\n",
        "        os.makedirs(output_path)\n",
        "\n",
        "    image_files = [f for f in os.listdir(input_path) if f.lower().endswith(('.png', '.jpg', '.jpeg'))]\n",
        "    folder_inference_time = 0\n",
        "    folder_psnr_sum = 0\n",
        "    num_images = len(image_files)\n",
        "\n",
        "    for image_file in image_files:\n",
        "        image_path = os.path.join(input_path, image_file)\n",
        "        image = cv2.imread(image_path)\n",
        "\n",
        "        if image.shape[0] > 720 or image.shape[1] > 1280:\n",
        "            raise ValueError(\"Input image size exceeds 1280x720 resolution\")\n",
        "\n",
        "        denoised_image, inference_time = non_local_means_denoising(image)\n",
        "\n",
        "        psnr_value = calculate_psnr(image, denoised_image)\n",
        "        folder_psnr_sum += psnr_value\n",
        "        folder_inference_time += inference_time\n",
        "\n",
        "        output_file_path = os.path.join(output_path, f\"denoised_{image_file}\")\n",
        "        cv2.imwrite(output_file_path, denoised_image)\n",
        "\n",
        "    return folder_inference_time, folder_psnr_sum, num_images\n",
        "\n",
        "total_inference_time = 0\n",
        "total_psnr = 0\n",
        "total_images = 0\n",
        "\n",
        "for folder in ['noisy5', 'noisy15', 'noisy35']:\n",
        "    output_folder = f\"denoised{folder[-2:]}\"\n",
        "    inference_time, psnr_sum, num_images = process_folder(folder, output_folder)\n",
        "    total_inference_time += inference_time\n",
        "    total_psnr += psnr_sum\n",
        "    total_images += num_images\n",
        "\n",
        "print_cpu_metrics(total_inference_time, total_images)"
      ],
      "metadata": {
        "id": "uSvzH_o4yeFo"
      },
      "execution_count": null,
      "outputs": []
    }
  ]
}