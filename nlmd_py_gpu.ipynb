{
  "nbformat": 4,
  "nbformat_minor": 0,
  "metadata": {
    "colab": {
      "provenance": []
    },
    "kernelspec": {
      "name": "python3",
      "display_name": "Python 3"
    },
    "language_info": {
      "name": "python"
    }
  },
  "cells": [
    {
      "cell_type": "code",
      "source": [
        "!pip install pynvml GPUtil"
      ],
      "metadata": {
        "id": "reVJAEQVzbAV"
      },
      "execution_count": null,
      "outputs": []
    },
    {
      "cell_type": "code",
      "source": [
        "import os\n",
        "import cv2\n",
        "import time\n",
        "import numpy as np\n",
        "import psutil\n",
        "from skimage.metrics import peak_signal_noise_ratio as psnr\n",
        "import GPUtil\n",
        "\n",
        "def non_local_means_denoising(image, h=10, hForColorComponents=10, templateWindowSize=7, searchWindowSize=21):\n",
        "    start_time = time.time()\n",
        "    if len(image.shape) == 2:\n",
        "        denoised_image = cv2.fastNlMeansDenoising(image, None, h, templateWindowSize, searchWindowSize)\n",
        "    else:\n",
        "        denoised_image = cv2.fastNlMeansDenoisingColored(image, None, h, hForColorComponents, templateWindowSize, searchWindowSize)\n",
        "    inference_time = (time.time() - start_time) * 1000\n",
        "    return denoised_image, inference_time\n",
        "\n",
        "def calculate_psnr(original_image, denoised_image):\n",
        "    return psnr(original_image, denoised_image)\n",
        "\n",
        "def process_images(input_folder, output_folder):\n",
        "    total_inference_time = 0\n",
        "    total_psnr = 0\n",
        "    image_count = 0\n",
        "\n",
        "    for filename in os.listdir(input_folder):\n",
        "        if filename.endswith(('.png', '.jpg', '.jpeg', '.bmp', '.tiff')):\n",
        "            image_path = os.path.join(input_folder, filename)\n",
        "            image = cv2.imread(image_path)\n",
        "\n",
        "            denoised_image, inference_time = non_local_means_denoising(image)\n",
        "            psnr_value = calculate_psnr(image, denoised_image)\n",
        "\n",
        "            output_image_path = os.path.join(output_folder, filename)\n",
        "            cv2.imwrite(output_image_path, denoised_image)\n",
        "\n",
        "            total_inference_time += inference_time\n",
        "            total_psnr += psnr_value\n",
        "            image_count += 1\n",
        "\n",
        "    avg_inference_time = total_inference_time / image_count if image_count else 0\n",
        "    avg_psnr = total_psnr / image_count if image_count else 0\n",
        "\n",
        "    return avg_inference_time, avg_psnr, image_count\n",
        "\n",
        "def print_gpu_metrics():\n",
        "    gpus = GPUtil.getGPUs()\n",
        "    for gpu in gpus:\n",
        "        gpu_memory_allocated = gpu.memoryUsed\n",
        "        gpu_memory_reserved = gpu.memoryTotal\n",
        "        gpu_load = gpu.load * 100\n",
        "        print(f\"GPU Name: {gpu.name}\")\n",
        "        print(f\"GPU Load (%): {gpu_load:.2f}%\")\n",
        "        print(f\"GPU Memory Usage (MB): {gpu_memory_allocated:.2f} MB / {gpu_memory_reserved:.2f} MB\")\n",
        "\n",
        "def main():\n",
        "    root_folder = '/content/drive/MyDrive/dataset'\n",
        "    output_folders = ['denoised5', 'denoised15', 'denoised35']\n",
        "    input_folders = ['noisy5', 'noisy15', 'noisy35']\n",
        "\n",
        "    total_images = 0\n",
        "    total_avg_inference_time = 0\n",
        "    total_avg_psnr = 0\n",
        "\n",
        "    for input_folder, output_folder in zip(input_folders, output_folders):\n",
        "        input_path = os.path.join(root_folder, input_folder)\n",
        "        output_path = os.path.join(root_folder, output_folder)\n",
        "        os.makedirs(output_path, exist_ok=True)\n",
        "\n",
        "        avg_inference_time, avg_psnr, image_count = process_images(input_path, output_path)\n",
        "\n",
        "        total_avg_inference_time += avg_inference_time * image_count\n",
        "        total_avg_psnr += avg_psnr * image_count\n",
        "        total_images += image_count\n",
        "\n",
        "    if total_images:\n",
        "        total_avg_inference_time /= total_images\n",
        "        total_avg_psnr /= total_images\n",
        "\n",
        "    print(f\"Total Images Processed: {total_images}\")\n",
        "    print(f\"Average Inference Time per Image: {total_avg_inference_time:.2f} ms\")\n",
        "    print(f\"Average PSNR (dB): {total_avg_psnr:.2f} dB\")\n",
        "\n",
        "    print_gpu_metrics()\n",
        "\n",
        "if __name__ == \"__main__\":\n",
        "    main()"
      ],
      "metadata": {
        "id": "Meyx0rqtz0iJ"
      },
      "execution_count": null,
      "outputs": []
    }
  ]
}